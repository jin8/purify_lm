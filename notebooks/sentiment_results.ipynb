<<<<<<< HEAD
{
 "cells": [
  {
   "cell_type": "code",
   "execution_count": 2,
   "metadata": {},
   "outputs": [
    {
     "name": "stdout",
     "output_type": "stream",
     "text": [
      "/st2/myung/anaconda3/envs/pytorch/bin/python\r\n"
     ]
    }
   ],
   "source": [
    "!which python"
   ]
  },
  {
   "cell_type": "code",
   "execution_count": 3,
   "metadata": {},
   "outputs": [
    {
     "name": "stdout",
     "output_type": "stream",
     "text": [
      "/v6/myung/iclr/purify_lm\n"
     ]
    }
   ],
   "source": [
    "from pathlib import Path\n",
    "import os\n",
    "import matplotlib.pyplot as plt\n",
    "import numpy as np\n",
    "import pandas as pd\n",
    "import scipy\n",
    "from tqdm import tqdm\n",
    "import seaborn as sns\n",
    "import json\n",
    "import codecs\n",
    "from pathlib import Path\n",
    "from collections import defaultdict\n",
    "%cd ..  "
   ]
  },
  {
   "cell_type": "code",
   "execution_count": 4,
   "metadata": {},
   "outputs": [],
   "source": [
    "def read_sentiment_results(models_dict, max_gens=None):\n",
    "    res = {}\n",
    "    for model in tqdm(models_dict):\n",
    "        df = pd.read_json(models_dict[model], lines=True)[:max_gens]\n",
    "        sentiment_labels = df.generations.apply(lambda x: [y['label'] for y in x])\n",
    "        positive_proportion = sentiment_labels.apply(lambda x: np.sum([1 for y in x if y == 'POSITIVE'])/len(x))\n",
    "        res[model] = {\n",
    "            'positive_proportion': positive_proportion.mean()\n",
    "        }\n",
    "        # read automatic evaluation\n",
    "        \"\"\"\n",
    "        with open(Path(os.path.dirname(models_dict[model])) / 'eval_results.txt', 'r') as fo:\n",
    "            for i, line in enumerate(fo):\n",
    "                if i < 3:\n",
    "                    print(line)\n",
    "                    dist_n = float(line.rstrip().replace(f'dist-{i+1} = ', ''))\n",
    "                    res[model][f'dist-{i+1}'] = dist_n\n",
    "                elif i == 3:\n",
    "                    print(line)\n",
    "                    ppl = float(line.replace('perplexity = ', '').strip('\\n').strip())\n",
    "                    res[model]['perplexity'] = ppl\n",
    "        \"\"\"\n",
    "    return res"
   ]
  },
  {
   "cell_type": "code",
   "execution_count": 5,
   "metadata": {},
   "outputs": [],
   "source": [
    "def weighted_average(neutral_prompts_res, adversarial_prompts_res, key):\n",
    "    \"\"\"\n",
    "    return weighted average of dist-n or perplexity value across neural prompts (5k) and adversarial prompts (2.5k)\n",
    "    \"\"\"\n",
    "    return np.average([neutral_prompts_res[model][key], adversarial_prompts_res[model][key]], weights=[2,1])"
   ]
  },
  {
   "cell_type": "markdown",
   "metadata": {},
   "source": [
    "## positive steering"
   ]
  },
  {
   "cell_type": "code",
   "execution_count": 63,
   "metadata": {},
   "outputs": [],
   "source": [
    "# results corresponding to the top half of Table 3\n",
    "\n",
    "NEUTRAL_DIR = Path('generations/sentiment/neutral_prompts/')\n",
    "NEG_DIR = Path('generations/sentiment/negative_prompts/')\n",
    "'''\n",
    "    'GPT-2': {\n",
    "        'neutral_path': NEUTRAL_DIR / 'gpt2/prompted_gens_gpt2.jsonl',\n",
    "        'neg_path': NEG_DIR / 'gpt2/prompted_gens_gpt2.jsonl',\n",
    "    },\n",
    "    'PPLM': {\n",
    "        'neutral_path': NEUTRAL_DIR / 'pplm/positive/prompted_gens_pplm.jsonl',\n",
    "        'neg_path': NEG_DIR / 'pplm/prompted_gens_pplm.jsonl'\n",
    "    },\n",
    "    'DAPT': {\n",
    "        'neutral_path': NEUTRAL_DIR / 'dapt/positive/prompted_gens_gpt2.jsonl',\n",
    "        'neg_path': NEG_DIR / 'dapt/prompted_gens_gpt2.jsonl',\n",
    "    },\n",
    "    'GeDi': {\n",
    "        'neutral_path': NEUTRAL_DIR / 'gedi/positive/prompted_gens_gedi.jsonl',\n",
    "        'neg_path': NEG_DIR / 'gedi/prompted_gens_gedi.jsonl'\n",
    "    },\n",
    "    'CTRL': {\n",
    "        'neutral_path': NEUTRAL_DIR / 'ctrl/positive/prompted_gens_ctrl.jsonl',\n",
    "        'neg_path': NEG_DIR / 'ctrl/prompted_gens_ctrl.jsonl'\n",
    "    },\n",
    "    'Expert': {\n",
    "        'neutral_path': NEUTRAL_DIR / 'expert/positive/prompted_gens_gpt2.jsonl',\n",
    "        'neg_path': NEG_DIR / 'expert/prompted_gens_gpt2.jsonl',\n",
    "    },\n",
    "    #'DExperts (anti-only)': {\n",
    "    #    'neutral_path': NEUTRAL_DIR / 'dexperts_anti-only/a-2.0/prompted_gens_dexperts.jsonl',\n",
    "    #    'neg_path': NEG_DIR / 'dexperts_anti-only/a-2.0/prompted_gens_dexperts.jsonl',\n",
    "    #},\n",
    "    'DExperts (small)': {\n",
    "        'neutral_path': NEUTRAL_DIR / 'dexperts/small_experts/positive/prompted_gens_dexperts.jsonl',\n",
    "        'neg_path': NEG_DIR / 'dexperts/small_experts/prompted_gens_dexperts.jsonl'\n",
    "    },\n",
    "    #'DExperts (medium)': {\n",
    "    #    'neutral_path': NEUTRAL_DIR / 'dexperts/medium_experts/positive/prompted_gens_dexperts.jsonl',\n",
    "    #    'neg_path': NEG_DIR / 'dexperts/small_experts/prompted_gens_dexperts.jsonl'\n",
    "    #},\n",
    "\n",
    "    'fuse_style_ep10': {\n",
    "        'neutral_path':'our_generations/prompted_sentiment-10k/neutral_prompts/fuse_style_ep10/positive/prompted_gens_style-gpt2-none.jsonl',\n",
    "        'neg_path': 'our_generations/prompted_sentiment-10k/negative_prompts/fuse_style_ep10/positive/prompted_gens_style-gpt2-none.jsonl'\n",
    "    },\n",
    "    \n",
    "    'fuse_style_ep20': {\n",
    "        'neutral_path':'our_generations/prompted_sentiment-10k/neutral_prompts/fuse_style_ep20/positive/prompted_gens_style-gpt2-none.jsonl',\n",
    "        'neg_path': 'our_generations/prompted_sentiment-10k/negative_prompts/fuse_style_ep20/positive/prompted_gens_style-gpt2-none.jsonl'\n",
    "    },\n",
    "    'fuse_style_ep30': {\n",
    "        'neutral_path':'our_generations/prompted_sentiment-10k/neutral_prompts/fuse_style_ep30/positive/prompted_gens_style-gpt2-none.jsonl',\n",
    "        'neg_path': 'our_generations/prompted_sentiment-10k/negative_prompts/fuse_style_ep30/positive/prompted_gens_style-gpt2-none.jsonl'\n",
    "    },\n",
    "    'fuse_rev_style_contrast0.25_ep100': {\n",
    "        'neutral_path':'our_generations/prompted_sentiment-10k/neutral_prompts/fuse_rev_style_contrast0.25_ep100/positive/prompted_gens_style-gpt2-none.jsonl',\n",
    "        'neg_path': 'our_generations/prompted_sentiment-10k/negative_prompts/fuse_rev_style_contrast0.25_ep100/positive/prompted_gens_style-gpt2-none.jsonl'\n",
    "    },\n",
    "    'fuse_rev_style_pred_contrast1.0_ep30': {\n",
    "        'neutral_path':'our_generations/prompted_sentiment-10k/neutral_prompts/fuse_rev_style_pred_contrast1.0_ep30/positive/prompted_gens_style-gpt2-attr.jsonl',\n",
    "        'neg_path': 'our_generations/prompted_sentiment-10k/negative_prompts/fuse_rev_style_pred_contrast1.0_ep30/positive/prompted_gens_style-gpt2-attr.jsonl'\n",
    "    },\n",
    "    'fuse_rev_style_pred_contrast1.0_ep50': {\n",
    "        'neutral_path':'our_generations/prompted_sentiment-10k/neutral_prompts/fuse_rev_style_pred_contrast1.0_ep50/positive/prompted_gens_style-gpt2-attr.jsonl',\n",
    "        'neg_path': 'our_generations/prompted_sentiment-10k/negative_prompts/fuse_rev_style_pred_contrast1.0_ep50/positive/prompted_gens_style-gpt2-attr.jsonl'\n",
    "    },\n",
    "    'fuse_rev_style_pred_contrast1.0_ep30_past': {\n",
    "        'neutral_path':'our_generations/prompted_sentiment-10k/neutral_prompts/fuse_rev_style_pred_contrast1.0_ep30/positive/prompted_gens_style-gpt2-attr_past.jsonl',\n",
    "        'neg_path': 'our_generations/prompted_sentiment-10k/negative_prompts/fuse_rev_style_pred_contrast1.0_ep30/positive/prompted_gens_style-gpt2-attr_past.jsonl'\n",
    "    },\n",
    "    'fuse_rev_style_pred_contrast1.0_ep50_past': {\n",
    "        'neutral_path':'our_generations/prompted_sentiment-10k/neutral_prompts/fuse_rev_style_pred_contrast1.0_ep50/positive/prompted_gens_style-gpt2-attr_past.jsonl',\n",
    "        'neg_path': 'our_generations/prompted_sentiment-10k/negative_prompts/fuse_rev_style_pred_contrast1.0_ep50/positive/prompted_gens_style-gpt2-attr_past.jsonl'\n",
    "    },\n",
    "'''\n",
    "models = {\n",
    "    'fuse_rev_style_pred_contrast1.0_ep30_with_project': {\n",
    "        'neutral_path':'our_generations/prompted_sentiment-10k/neutral_prompts/fuse_rev_style_pred_contrast1.0_ep30_with_project/positive/prompted_gens_style-gpt2-attr.jsonl',\n",
    "        'neg_path': 'our_generations/prompted_sentiment-10k/negative_prompts/fuse_rev_style_pred_contrast1.0_ep30_with_project/positive/prompted_gens_style-gpt2-attr.jsonl'\n",
    "    },\n",
    "    'fuse_rev_style_pred_contrast1.0_ep30_with_project_past': {\n",
    "        'neutral_path':'our_generations/prompted_sentiment-10k/neutral_prompts/fuse_rev_style_pred_contrast1.0_ep30_with_project/positive/prompted_gens_style-gpt2-attr_past.jsonl',\n",
    "        'neg_path': 'our_generations/prompted_sentiment-10k/negative_prompts/fuse_rev_style_pred_contrast1.0_ep30_with_project/positive/prompted_gens_style-gpt2-attr_past.jsonl'\n",
    "    },\n",
    "\n",
    "}\n"
   ]
  },
  {
   "cell_type": "code",
   "execution_count": 64,
   "metadata": {},
   "outputs": [
    {
     "name": "stderr",
     "output_type": "stream",
     "text": [
      "100%|██████████| 2/2 [00:00<00:00,  2.17it/s]\n",
      "100%|██████████| 2/2 [00:00<00:00,  5.05it/s]\n"
     ]
    }
   ],
   "source": [
    "# read sentiment control results\n",
    "neutral_prompts_res = read_sentiment_results({m: p['neutral_path'] for m,p in models.items()})\n",
    "neg_prompts_res = read_sentiment_results({m: p['neg_path'] for m,p in models.items()})"
   ]
  },
  {
   "cell_type": "code",
   "execution_count": 65,
   "metadata": {},
   "outputs": [
    {
     "name": "stdout",
     "output_type": "stream",
     "text": [
      "{'fuse_rev_style_pred_contrast1.0_ep30_with_project': {'positive_proportion': 0.5632}, 'fuse_rev_style_pred_contrast1.0_ep30_with_project_past': {'positive_proportion': 0.3881280000000019}}\n",
      "{'fuse_rev_style_pred_contrast1.0_ep30_with_project': {'neutral_prompts': 75.78, 'neg_prompts': 56.32}, 'fuse_rev_style_pred_contrast1.0_ep30_with_project_past': {'neutral_prompts': 70.50880000000045, 'neg_prompts': 38.812800000000195}}\n"
     ]
    }
   ],
   "source": [
    "positive_steering_res = {}\n",
    "#assert set(neutral_prompts_res.keys()) == set(neg_prompts_res.keys())\n",
    "#print(neutral_prompts_res)\n",
    "print(neg_prompts_res)\n",
    "for model in neg_prompts_res.keys():\n",
    "    positive_steering_res[model] = {\n",
    "        'neutral_prompts': neutral_prompts_res[model]['positive_proportion']*100,\n",
    "        'neg_prompts': neg_prompts_res[model]['positive_proportion']*100,\n",
    "        #'dist-1': weighted_average(neutral_prompts_res, neg_prompts_res, 'dist-1'),\n",
    "        #'dist-2': weighted_average(neutral_prompts_res, neg_prompts_res, 'dist-2'),\n",
    "        #'dist-3': weighted_average(neutral_prompts_res, neg_prompts_res, 'dist-3'),\n",
    "        #'perplexity': weighted_average(neutral_prompts_res, neg_prompts_res, 'perplexity'),\n",
    "    }\n",
    "print(positive_steering_res)"
   ]
  },
  {
   "cell_type": "code",
   "execution_count": 66,
   "metadata": {},
   "outputs": [
    {
     "data": {
      "text/html": [
       "<div>\n",
       "<style scoped>\n",
       "    .dataframe tbody tr th:only-of-type {\n",
       "        vertical-align: middle;\n",
       "    }\n",
       "\n",
       "    .dataframe tbody tr th {\n",
       "        vertical-align: top;\n",
       "    }\n",
       "\n",
       "    .dataframe thead th {\n",
       "        text-align: right;\n",
       "    }\n",
       "</style>\n",
       "<table border=\"1\" class=\"dataframe\">\n",
       "  <thead>\n",
       "    <tr style=\"text-align: right;\">\n",
       "      <th></th>\n",
       "      <th>neutral_prompts</th>\n",
       "      <th>neg_prompts</th>\n",
       "    </tr>\n",
       "  </thead>\n",
       "  <tbody>\n",
       "    <tr>\n",
       "      <th>fuse_rev_style_pred_contrast1.0_ep30_with_project_past</th>\n",
       "      <td>70.51</td>\n",
       "      <td>38.81</td>\n",
       "    </tr>\n",
       "    <tr>\n",
       "      <th>fuse_rev_style_pred_contrast1.0_ep30_with_project</th>\n",
       "      <td>75.78</td>\n",
       "      <td>56.32</td>\n",
       "    </tr>\n",
       "  </tbody>\n",
       "</table>\n",
       "</div>"
      ],
      "text/plain": [
       "                                                    neutral_prompts  \\\n",
       "fuse_rev_style_pred_contrast1.0_ep30_with_proje...            70.51   \n",
       "fuse_rev_style_pred_contrast1.0_ep30_with_project             75.78   \n",
       "\n",
       "                                                    neg_prompts  \n",
       "fuse_rev_style_pred_contrast1.0_ep30_with_proje...        38.81  \n",
       "fuse_rev_style_pred_contrast1.0_ep30_with_project         56.32  "
      ]
     },
     "execution_count": 66,
     "metadata": {},
     "output_type": "execute_result"
    }
   ],
   "source": [
    "pd.DataFrame(positive_steering_res).transpose().sort_values(by='neg_prompts', ascending=True).round(2)"
   ]
  },
  {
   "cell_type": "markdown",
   "metadata": {},
   "source": [
    "# negative steering "
   ]
  },
  {
   "cell_type": "code",
   "execution_count": null,
   "metadata": {},
   "outputs": [],
   "source": [
    "# results corresponding to the bottom  half of Table 3\n",
    "\n",
    "NEUTRAL_DIR = Path('generations/sentiment/neutral_prompts/')\n",
    "POS_DIR = Path('generations/sentiment/positive_prompts/')\n",
    "\n",
    "models = {\n",
    "    'GPT-2': {\n",
    "        'neutral_path': NEUTRAL_DIR / 'gpt2/prompted_gens_gpt2.jsonl',\n",
    "        'pos_path': POS_DIR / 'gpt2/prompted_gens_gpt2.jsonl',\n",
    "    },\n",
    "    'PPLM': {\n",
    "        'neutral_path': NEUTRAL_DIR / 'pplm/negative/prompted_gens_pplm.jsonl',\n",
    "        'pos_path': POS_DIR / 'pplm/prompted_gens_pplm.jsonl'\n",
    "    },\n",
    "    'DAPT': {\n",
    "        'neutral_path': NEUTRAL_DIR / 'dapt/negative/prompted_gens_gpt2.jsonl',\n",
    "        'pos_path': POS_DIR / 'dapt/prompted_gens_gpt2.jsonl',\n",
    "    },\n",
    "    'GeDi': {\n",
    "        'neutral_path': NEUTRAL_DIR / 'gedi/negative/prompted_gens_gedi.jsonl',\n",
    "        'pos_path': POS_DIR / 'gedi/prompted_gens_gedi.jsonl'\n",
    "    },\n",
    "    'CTRL': {\n",
    "        'neutral_path': NEUTRAL_DIR / 'ctrl/negative/prompted_gens_ctrl.jsonl',\n",
    "        'pos_path': POS_DIR / 'ctrl/prompted_gens_ctrl.jsonl'\n",
    "    },\n",
    "    'Expert': {\n",
    "        'neutral_path': NEUTRAL_DIR / 'expert/negative/prompted_gens_gpt2.jsonl',\n",
    "        'pos_path': POS_DIR / 'expert/prompted_gens_gpt2.jsonl',\n",
    "    },\n",
    "    'DExperts (anti-only)': {\n",
    "        'neutral_path': NEUTRAL_DIR / 'dexperts_anti-only/a--2.0/prompted_gens_dexperts.jsonl',\n",
    "        'pos_path': POS_DIR / 'dexperts_anti-only/a--2.0/prompted_gens_dexperts.jsonl',\n",
    "    },\n",
    "    'DExperts (large)': {\n",
    "        'neutral_path': NEUTRAL_DIR / 'dexperts/large_experts/negative/prompted_gens_dexperts.jsonl',\n",
    "        'pos_path': POS_DIR / 'dexperts/large_experts/prompted_gens_dexperts.jsonl'\n",
    "    },\n",
    "    'DExperts (medium)': {\n",
    "        'neutral_path': NEUTRAL_DIR / 'dexperts/medium_experts/negative/prompted_gens_dexperts.jsonl',\n",
    "        'pos_path': POS_DIR / 'dexperts/medium_experts/prompted_gens_dexperts.jsonl'\n",
    "    },\n",
    "    'DExperts (small)': {\n",
    "        'neutral_path': NEUTRAL_DIR / 'dexperts/small_experts/negative/prompted_gens_dexperts.jsonl',\n",
    "        'pos_path': POS_DIR / 'dexperts/small_experts/prompted_gens_dexperts.jsonl'\n",
    "    }\n",
    "}"
   ]
  },
  {
   "cell_type": "code",
   "execution_count": null,
   "metadata": {},
   "outputs": [],
   "source": [
    "# read sentiment control results\n",
    "neutral_prompts_res = read_sentiment_results({m: p['neutral_path'] for m,p in models.items()})\n",
    "pos_prompts_res = read_sentiment_results({m: p['pos_path'] for m,p in models.items()})"
   ]
  },
  {
   "cell_type": "code",
   "execution_count": null,
   "metadata": {},
   "outputs": [],
   "source": [
    "negative_steering_res = {}\n",
    "assert set(neutral_prompts_res.keys()) == set(pos_prompts_res.keys())\n",
    "for model in neutral_prompts_res.keys():\n",
    "    negative_steering_res[model] = {\n",
    "        'neutral_prompts': neutral_prompts_res[model]['positive_proportion']*100,\n",
    "        'pos_prompts': pos_prompts_res[model]['positive_proportion']*100,\n",
    "        'dist-1': weighted_average(neutral_prompts_res, pos_prompts_res, 'dist-1'),\n",
    "        'dist-2': weighted_average(neutral_prompts_res, pos_prompts_res, 'dist-2'),\n",
    "        'dist-3': weighted_average(neutral_prompts_res, pos_prompts_res, 'dist-3'),\n",
    "        'perplexity': weighted_average(neutral_prompts_res, pos_prompts_res, 'perplexity'),\n",
    "    }"
   ]
  },
  {
   "cell_type": "code",
   "execution_count": null,
   "metadata": {},
   "outputs": [],
   "source": [
    "pd.DataFrame(negative_steering_res).transpose().sort_values(by='neutral_prompts', ascending=False).round(2)"
   ]
  },
  {
   "cell_type": "markdown",
   "metadata": {},
   "source": [
    "## hyperparameter search"
   ]
  },
  {
   "cell_type": "code",
   "execution_count": null,
   "metadata": {},
   "outputs": [],
   "source": [
    "GENS_DIR = Path('generations/sentiment/neutral_prompts/')\n",
    "sizes = ['large', 'medium', 'small']\n",
    "size_dict = {size: defaultdict(dict) for size in sizes}\n",
    "\n",
    "for size in sizes:\n",
    "    dexperts_dir = Path(f'dexperts/{size}_experts')\n",
    "\n",
    "    for folder in os.listdir(GENS_DIR / dexperts_dir):\n",
    "        splits = folder.split('-')\n",
    "        if len(splits) >= 2:\n",
    "            a = '-' + splits[-1] if len(splits) == 3 else splits[-1]\n",
    "            a = float(a)\n",
    "            size_dict[size][a] = GENS_DIR / dexperts_dir / f'{folder}/prompted_gens_dexperts.jsonl'"
   ]
  },
  {
   "cell_type": "code",
   "execution_count": null,
   "metadata": {
    "scrolled": true
   },
   "outputs": [],
   "source": [
    "small_res = read_sentiment_results(size_dict['small'], max_gens=1000)\n",
    "small_res_df = pd.DataFrame(small_res).transpose()\n",
    "medium_res = read_sentiment_results(size_dict['medium'], max_gens=1000)\n",
    "medium_res_df = pd.DataFrame(medium_res).transpose()\n",
    "large_res = read_sentiment_results(size_dict['large'], max_gens=1000)\n",
    "large_res_df = pd.DataFrame(large_res).transpose()"
   ]
  },
  {
   "cell_type": "code",
   "execution_count": null,
   "metadata": {},
   "outputs": [],
   "source": [
    "def plot(res_df, label, axes):\n",
    "    ax = axes[0]\n",
    "    pos_hyperparam_res_df = res_df.loc[res_df.index >= 2.0]\n",
    "    sns.lineplot(x=pos_hyperparam_res_df['perplexity'], y=pos_hyperparam_res_df['positive_proportion'], ax=ax, marker='o', dashes=False, label=label)\n",
    "    for i, row in pos_hyperparam_res_df.iterrows():\n",
    "        x = row['perplexity']\n",
    "        y = row['positive_proportion']\n",
    "        ax.text(x=x, y=y, s=i)\n",
    "    \n",
    "    ax = axes[1]\n",
    "    neg_hyperparam_res_df = res_df.loc[res_df.index <= -2.0]\n",
    "    sns.lineplot(x=neg_hyperparam_res_df['perplexity'], y=neg_hyperparam_res_df['positive_proportion'], ax=ax, marker='o', dashes=False, label=label)\n",
    "    for i, row in neg_hyperparam_res_df.iterrows():\n",
    "        x = row['perplexity']\n",
    "        y = row['positive_proportion']\n",
    "        ax.text(x=x, y=y, s=i)"
   ]
  },
  {
   "cell_type": "code",
   "execution_count": null,
   "metadata": {},
   "outputs": [],
   "source": [
    "plt.figure()\n",
    "fig, axes = plt.subplots(2, 1, figsize=(8,6))\n",
    "plt.style.use('seaborn-white')\n",
    "fig.tight_layout()\n",
    "\n",
    "plot(small_res_df, label='Small experts', axes=axes)\n",
    "plot(medium_res_df, label='Medium experts', axes=axes)\n",
    "plot(large_res_df, label='Large experts', axes=axes)\n",
    "\n",
    "ax = axes[0]\n",
    "ax.set_xlabel(' ')\n",
    "ax.set_ylabel('% Positive', fontsize=13)\n",
    "ax.set_title('Positive steering')\n",
    "ax.legend()\n",
    "\n",
    "ax = axes[1]\n",
    "ax.set_xlabel('Perplexity', fontsize=13)\n",
    "ax.set_ylabel('% Positive', fontsize=13)\n",
    "ax.set_title('Negative steering')\n",
    "\n",
    "plt.tight_layout()\n",
    "plt.savefig('figures/sentiment_v_perplexity.png')"
   ]
  },
  {
   "cell_type": "code",
   "execution_count": null,
   "metadata": {},
   "outputs": [],
   "source": []
  }
 ],
 "metadata": {
  "kernelspec": {
   "display_name": "Python 3",
   "language": "python",
   "name": "python3"
  }
 },
 "nbformat": 4,
 "nbformat_minor": 4
}
=======
{
 "cells": [
  {
   "cell_type": "code",
   "execution_count": 16,
   "metadata": {},
   "outputs": [],
   "source": [
    "from pathlib import Path\n",
    "import os\n",
    "import matplotlib.pyplot as plt\n",
    "import numpy as np\n",
    "import pandas as pd\n",
    "import scipy\n",
    "from tqdm import tqdm\n",
    "import seaborn as sns\n",
    "import json\n",
    "import codecs\n",
    "from pathlib import Path\n",
    "from collections import defaultdict\n",
    "\n",
    "while Path.cwd().name != 'dexperts':\n",
    "    %cd ..  "
   ]
  },
  {
   "cell_type": "code",
   "execution_count": 17,
   "metadata": {},
   "outputs": [],
   "source": [
    "def read_sentiment_results(models_dict, max_gens=None):\n",
    "    res = {}\n",
    "    for model in tqdm(models_dict):\n",
    "        df = pd.read_json(models_dict[model], lines=True)[:max_gens]\n",
    "        sentiment_labels = df.generations.apply(lambda x: [y['label'] for y in x])\n",
    "        positive_proportion = sentiment_labels.apply(lambda x: np.sum([1 for y in x if y == 'POSITIVE'])/len(x))\n",
    "        res[model] = {\n",
    "            'positive_proportion': positive_proportion.mean()\n",
    "        }\n",
    "        # read automatic evaluation\n",
    "        with open(Path(os.path.dirname(models_dict[model])) / 'eval_results.txt', 'r') as fo:\n",
    "            for i, line in enumerate(fo):\n",
    "                if i < 3:\n",
    "                    dist_n = float(line.rstrip().replace(f'dist-{i+1} = ', ''))\n",
    "                    res[model][f'dist-{i+1}'] = dist_n\n",
    "                elif i == 3:\n",
    "                    ppl = float(line.replace('perplexity = ', ''))\n",
    "                    res[model]['perplexity'] = ppl\n",
    "    return res"
   ]
  },
  {
   "cell_type": "code",
   "execution_count": 18,
   "metadata": {},
   "outputs": [],
   "source": [
    "def weighted_average(neutral_prompts_res, adversarial_prompts_res, key):\n",
    "    \"\"\"\n",
    "    return weighted average of dist-n or perplexity value across neural prompts (5k) and adversarial prompts (2.5k)\n",
    "    \"\"\"\n",
    "    return np.average([neutral_prompts_res[model][key], adversarial_prompts_res[model][key]], weights=[2,1])"
   ]
  },
  {
   "cell_type": "markdown",
   "metadata": {},
   "source": [
    "## positive steering"
   ]
  },
  {
   "cell_type": "code",
   "execution_count": 19,
   "metadata": {},
   "outputs": [],
   "source": [
    "# results corresponding to the top half of Table 3\n",
    "\n",
    "NEUTRAL_DIR = Path('generations/sentiment/neutral_prompts/')\n",
    "NEG_DIR = Path('generations/sentiment/negative_prompts/')\n",
    "\n",
    "models = {\n",
    "    'GPT-2': {\n",
    "        'neutral_path': NEUTRAL_DIR / 'gpt2/prompted_gens_gpt2.jsonl',\n",
    "        'neg_path': NEG_DIR / 'gpt2/prompted_gens_gpt2.jsonl',\n",
    "    },\n",
    "    'PPLM': {\n",
    "        'neutral_path': NEUTRAL_DIR / 'pplm/positive/prompted_gens_pplm.jsonl',\n",
    "        'neg_path': NEG_DIR / 'pplm/prompted_gens_pplm.jsonl'\n",
    "    },\n",
    "    'DAPT': {\n",
    "        'neutral_path': NEUTRAL_DIR / 'dapt/positive/prompted_gens_gpt2.jsonl',\n",
    "        'neg_path': NEG_DIR / 'dapt/prompted_gens_gpt2.jsonl',\n",
    "    },\n",
    "    'GeDi': {\n",
    "        'neutral_path': NEUTRAL_DIR / 'gedi/positive/prompted_gens_gedi.jsonl',\n",
    "        'neg_path': NEG_DIR / 'gedi/prompted_gens_gedi.jsonl'\n",
    "    },\n",
    "    'CTRL': {\n",
    "        'neutral_path': NEUTRAL_DIR / 'ctrl/positive/prompted_gens_ctrl.jsonl',\n",
    "        'neg_path': NEG_DIR / 'ctrl/prompted_gens_ctrl.jsonl'\n",
    "    },\n",
    "    'Expert': {\n",
    "        'neutral_path': NEUTRAL_DIR / 'expert/positive/prompted_gens_gpt2.jsonl',\n",
    "        'neg_path': NEG_DIR / 'expert/prompted_gens_gpt2.jsonl',\n",
    "    },\n",
    "    'DExperts (anti-only)': {\n",
    "        'neutral_path': NEUTRAL_DIR / 'dexperts_anti-only/a-2.0/prompted_gens_dexperts.jsonl',\n",
    "        'neg_path': NEG_DIR / 'dexperts_anti-only/a-2.0/prompted_gens_dexperts.jsonl',\n",
    "    },\n",
    "    'DExperts (small)': {\n",
    "        'neutral_path': NEUTRAL_DIR / 'dexperts/small_experts/positive/prompted_gens_dexperts.jsonl',\n",
    "        'neg_path': NEG_DIR / 'dexperts/small_experts/prompted_gens_dexperts.jsonl'\n",
    "    },\n",
    "    'DExperts (medium)': {\n",
    "        'neutral_path': NEUTRAL_DIR / 'dexperts/medium_experts/positive/prompted_gens_dexperts.jsonl',\n",
    "        'neg_path': NEG_DIR / 'dexperts/small_experts/prompted_gens_dexperts.jsonl'\n",
    "    },\n",
    "    'DExperts (large)': {\n",
    "        'neutral_path': NEUTRAL_DIR / 'dexperts/large_experts/positive/prompted_gens_dexperts.jsonl',\n",
    "        'neg_path': NEG_DIR / 'dexperts/small_experts/prompted_gens_dexperts.jsonl'\n",
    "    },\n",
    "}"
   ]
  },
  {
   "cell_type": "code",
   "execution_count": 20,
   "metadata": {},
   "outputs": [
    {
     "name": "stderr",
     "output_type": "stream",
     "text": [
      "100%|██████████| 10/10 [00:05<00:00,  1.78it/s]\n",
      "100%|██████████| 10/10 [00:02<00:00,  3.79it/s]\n"
     ]
    }
   ],
   "source": [
    "# read sentiment control results\n",
    "neutral_prompts_res = read_sentiment_results({m: p['neutral_path'] for m,p in models.items()})\n",
    "neg_prompts_res = read_sentiment_results({m: p['neg_path'] for m,p in models.items()})"
   ]
  },
  {
   "cell_type": "code",
   "execution_count": 21,
   "metadata": {},
   "outputs": [],
   "source": [
    "positive_steering_res = {}\n",
    "assert set(neutral_prompts_res.keys()) == set(neg_prompts_res.keys())\n",
    "for model in neutral_prompts_res.keys():\n",
    "    positive_steering_res[model] = {\n",
    "        'neutral_prompts': neutral_prompts_res[model]['positive_proportion']*100,\n",
    "        'neg_prompts': neg_prompts_res[model]['positive_proportion']*100,\n",
    "        'dist-1': weighted_average(neutral_prompts_res, neg_prompts_res, 'dist-1'),\n",
    "        'dist-2': weighted_average(neutral_prompts_res, neg_prompts_res, 'dist-2'),\n",
    "        'dist-3': weighted_average(neutral_prompts_res, neg_prompts_res, 'dist-3'),\n",
    "        'perplexity': weighted_average(neutral_prompts_res, neg_prompts_res, 'perplexity'),\n",
    "    }"
   ]
  },
  {
   "cell_type": "code",
   "execution_count": 22,
   "metadata": {},
   "outputs": [
    {
     "data": {
      "text/html": [
       "<div>\n",
       "<style scoped>\n",
       "    .dataframe tbody tr th:only-of-type {\n",
       "        vertical-align: middle;\n",
       "    }\n",
       "\n",
       "    .dataframe tbody tr th {\n",
       "        vertical-align: top;\n",
       "    }\n",
       "\n",
       "    .dataframe thead th {\n",
       "        text-align: right;\n",
       "    }\n",
       "</style>\n",
       "<table border=\"1\" class=\"dataframe\">\n",
       "  <thead>\n",
       "    <tr style=\"text-align: right;\">\n",
       "      <th></th>\n",
       "      <th>neutral_prompts</th>\n",
       "      <th>neg_prompts</th>\n",
       "      <th>dist-1</th>\n",
       "      <th>dist-2</th>\n",
       "      <th>dist-3</th>\n",
       "      <th>perplexity</th>\n",
       "    </tr>\n",
       "  </thead>\n",
       "  <tbody>\n",
       "    <tr>\n",
       "      <th>GPT-2</th>\n",
       "      <td>50.02</td>\n",
       "      <td>0.00</td>\n",
       "      <td>0.58</td>\n",
       "      <td>0.84</td>\n",
       "      <td>0.84</td>\n",
       "      <td>29.28</td>\n",
       "    </tr>\n",
       "    <tr>\n",
       "      <th>PPLM</th>\n",
       "      <td>52.69</td>\n",
       "      <td>8.72</td>\n",
       "      <td>0.61</td>\n",
       "      <td>0.86</td>\n",
       "      <td>0.85</td>\n",
       "      <td>142.12</td>\n",
       "    </tr>\n",
       "    <tr>\n",
       "      <th>DExperts (anti-only)</th>\n",
       "      <td>60.72</td>\n",
       "      <td>4.43</td>\n",
       "      <td>0.65</td>\n",
       "      <td>0.81</td>\n",
       "      <td>0.78</td>\n",
       "      <td>46.01</td>\n",
       "    </tr>\n",
       "    <tr>\n",
       "      <th>CTRL</th>\n",
       "      <td>61.81</td>\n",
       "      <td>18.88</td>\n",
       "      <td>0.51</td>\n",
       "      <td>0.83</td>\n",
       "      <td>0.86</td>\n",
       "      <td>43.79</td>\n",
       "    </tr>\n",
       "    <tr>\n",
       "      <th>DAPT</th>\n",
       "      <td>77.24</td>\n",
       "      <td>14.17</td>\n",
       "      <td>0.56</td>\n",
       "      <td>0.83</td>\n",
       "      <td>0.84</td>\n",
       "      <td>30.52</td>\n",
       "    </tr>\n",
       "    <tr>\n",
       "      <th>Expert</th>\n",
       "      <td>79.83</td>\n",
       "      <td>43.80</td>\n",
       "      <td>0.59</td>\n",
       "      <td>0.85</td>\n",
       "      <td>0.85</td>\n",
       "      <td>64.32</td>\n",
       "    </tr>\n",
       "    <tr>\n",
       "      <th>GeDi</th>\n",
       "      <td>86.01</td>\n",
       "      <td>26.80</td>\n",
       "      <td>0.57</td>\n",
       "      <td>0.80</td>\n",
       "      <td>0.79</td>\n",
       "      <td>58.41</td>\n",
       "    </tr>\n",
       "    <tr>\n",
       "      <th>DExperts (medium)</th>\n",
       "      <td>94.31</td>\n",
       "      <td>31.64</td>\n",
       "      <td>0.55</td>\n",
       "      <td>0.83</td>\n",
       "      <td>0.83</td>\n",
       "      <td>43.19</td>\n",
       "    </tr>\n",
       "    <tr>\n",
       "      <th>DExperts (large)</th>\n",
       "      <td>94.46</td>\n",
       "      <td>31.64</td>\n",
       "      <td>0.56</td>\n",
       "      <td>0.83</td>\n",
       "      <td>0.83</td>\n",
       "      <td>45.83</td>\n",
       "    </tr>\n",
       "    <tr>\n",
       "      <th>DExperts (small)</th>\n",
       "      <td>94.57</td>\n",
       "      <td>31.64</td>\n",
       "      <td>0.56</td>\n",
       "      <td>0.83</td>\n",
       "      <td>0.84</td>\n",
       "      <td>42.08</td>\n",
       "    </tr>\n",
       "  </tbody>\n",
       "</table>\n",
       "</div>"
      ],
      "text/plain": [
       "                      neutral_prompts  neg_prompts  dist-1  dist-2  dist-3  \\\n",
       "GPT-2                           50.02         0.00    0.58    0.84    0.84   \n",
       "PPLM                            52.69         8.72    0.61    0.86    0.85   \n",
       "DExperts (anti-only)            60.72         4.43    0.65    0.81    0.78   \n",
       "CTRL                            61.81        18.88    0.51    0.83    0.86   \n",
       "DAPT                            77.24        14.17    0.56    0.83    0.84   \n",
       "Expert                          79.83        43.80    0.59    0.85    0.85   \n",
       "GeDi                            86.01        26.80    0.57    0.80    0.79   \n",
       "DExperts (medium)               94.31        31.64    0.55    0.83    0.83   \n",
       "DExperts (large)                94.46        31.64    0.56    0.83    0.83   \n",
       "DExperts (small)                94.57        31.64    0.56    0.83    0.84   \n",
       "\n",
       "                      perplexity  \n",
       "GPT-2                      29.28  \n",
       "PPLM                      142.12  \n",
       "DExperts (anti-only)       46.01  \n",
       "CTRL                       43.79  \n",
       "DAPT                       30.52  \n",
       "Expert                     64.32  \n",
       "GeDi                       58.41  \n",
       "DExperts (medium)          43.19  \n",
       "DExperts (large)           45.83  \n",
       "DExperts (small)           42.08  "
      ]
     },
     "execution_count": 22,
     "metadata": {},
     "output_type": "execute_result"
    }
   ],
   "source": [
    "pd.DataFrame(positive_steering_res).transpose().sort_values(by='neutral_prompts', ascending=True).round(2)"
   ]
  },
  {
   "cell_type": "markdown",
   "metadata": {},
   "source": [
    "## negative steering"
   ]
  },
  {
   "cell_type": "code",
   "execution_count": 23,
   "metadata": {},
   "outputs": [],
   "source": [
    "# results corresponding to the bottom  half of Table 3\n",
    "\n",
    "NEUTRAL_DIR = Path('generations/sentiment/neutral_prompts/')\n",
    "POS_DIR = Path('generations/sentiment/positive_prompts/')\n",
    "\n",
    "models = {\n",
    "    'GPT-2': {\n",
    "        'neutral_path': NEUTRAL_DIR / 'gpt2/prompted_gens_gpt2.jsonl',\n",
    "        'pos_path': POS_DIR / 'gpt2/prompted_gens_gpt2.jsonl',\n",
    "    },\n",
    "    'PPLM': {\n",
    "        'neutral_path': NEUTRAL_DIR / 'pplm/negative/prompted_gens_pplm.jsonl',\n",
    "        'pos_path': POS_DIR / 'pplm/prompted_gens_pplm.jsonl'\n",
    "    },\n",
    "    'DAPT': {\n",
    "        'neutral_path': NEUTRAL_DIR / 'dapt/negative/prompted_gens_gpt2.jsonl',\n",
    "        'pos_path': POS_DIR / 'dapt/prompted_gens_gpt2.jsonl',\n",
    "    },\n",
    "    'GeDi': {\n",
    "        'neutral_path': NEUTRAL_DIR / 'gedi/negative/prompted_gens_gedi.jsonl',\n",
    "        'pos_path': POS_DIR / 'gedi/prompted_gens_gedi.jsonl'\n",
    "    },\n",
    "    'CTRL': {\n",
    "        'neutral_path': NEUTRAL_DIR / 'ctrl/negative/prompted_gens_ctrl.jsonl',\n",
    "        'pos_path': POS_DIR / 'ctrl/prompted_gens_ctrl.jsonl'\n",
    "    },\n",
    "    'Expert': {\n",
    "        'neutral_path': NEUTRAL_DIR / 'expert/negative/prompted_gens_gpt2.jsonl',\n",
    "        'pos_path': POS_DIR / 'expert/prompted_gens_gpt2.jsonl',\n",
    "    },\n",
    "    'DExperts (anti-only)': {\n",
    "        'neutral_path': NEUTRAL_DIR / 'dexperts_anti-only/a--2.0/prompted_gens_dexperts.jsonl',\n",
    "        'pos_path': POS_DIR / 'dexperts_anti-only/a--2.0/prompted_gens_dexperts.jsonl',\n",
    "    },\n",
    "    'DExperts (large)': {\n",
    "        'neutral_path': NEUTRAL_DIR / 'dexperts/large_experts/negative/prompted_gens_dexperts.jsonl',\n",
    "        'pos_path': POS_DIR / 'dexperts/large_experts/prompted_gens_dexperts.jsonl'\n",
    "    },\n",
    "    'DExperts (medium)': {\n",
    "        'neutral_path': NEUTRAL_DIR / 'dexperts/medium_experts/negative/prompted_gens_dexperts.jsonl',\n",
    "        'pos_path': POS_DIR / 'dexperts/medium_experts/prompted_gens_dexperts.jsonl'\n",
    "    },\n",
    "    'DExperts (small)': {\n",
    "        'neutral_path': NEUTRAL_DIR / 'dexperts/small_experts/negative/prompted_gens_dexperts.jsonl',\n",
    "        'pos_path': POS_DIR / 'dexperts/small_experts/prompted_gens_dexperts.jsonl'\n",
    "    }\n",
    "}"
   ]
  },
  {
   "cell_type": "code",
   "execution_count": 24,
   "metadata": {},
   "outputs": [
    {
     "name": "stderr",
     "output_type": "stream",
     "text": [
      "100%|██████████| 10/10 [00:05<00:00,  1.82it/s]\n",
      "100%|██████████| 10/10 [00:03<00:00,  3.30it/s]\n"
     ]
    }
   ],
   "source": [
    "# read sentiment control results\n",
    "neutral_prompts_res = read_sentiment_results({m: p['neutral_path'] for m,p in models.items()})\n",
    "pos_prompts_res = read_sentiment_results({m: p['pos_path'] for m,p in models.items()})"
   ]
  },
  {
   "cell_type": "code",
   "execution_count": 25,
   "metadata": {},
   "outputs": [],
   "source": [
    "negative_steering_res = {}\n",
    "assert set(neutral_prompts_res.keys()) == set(pos_prompts_res.keys())\n",
    "for model in neutral_prompts_res.keys():\n",
    "    negative_steering_res[model] = {\n",
    "        'neutral_prompts': neutral_prompts_res[model]['positive_proportion']*100,\n",
    "        'pos_prompts': pos_prompts_res[model]['positive_proportion']*100,\n",
    "        'dist-1': weighted_average(neutral_prompts_res, pos_prompts_res, 'dist-1'),\n",
    "        'dist-2': weighted_average(neutral_prompts_res, pos_prompts_res, 'dist-2'),\n",
    "        'dist-3': weighted_average(neutral_prompts_res, pos_prompts_res, 'dist-3'),\n",
    "        'perplexity': weighted_average(neutral_prompts_res, pos_prompts_res, 'perplexity'),\n",
    "    }"
   ]
  },
  {
   "cell_type": "code",
   "execution_count": 26,
   "metadata": {},
   "outputs": [
    {
     "data": {
      "text/html": [
       "<div>\n",
       "<style scoped>\n",
       "    .dataframe tbody tr th:only-of-type {\n",
       "        vertical-align: middle;\n",
       "    }\n",
       "\n",
       "    .dataframe tbody tr th {\n",
       "        vertical-align: top;\n",
       "    }\n",
       "\n",
       "    .dataframe thead th {\n",
       "        text-align: right;\n",
       "    }\n",
       "</style>\n",
       "<table border=\"1\" class=\"dataframe\">\n",
       "  <thead>\n",
       "    <tr style=\"text-align: right;\">\n",
       "      <th></th>\n",
       "      <th>neutral_prompts</th>\n",
       "      <th>pos_prompts</th>\n",
       "      <th>dist-1</th>\n",
       "      <th>dist-2</th>\n",
       "      <th>dist-3</th>\n",
       "      <th>perplexity</th>\n",
       "    </tr>\n",
       "  </thead>\n",
       "  <tbody>\n",
       "    <tr>\n",
       "      <th>GPT-2</th>\n",
       "      <td>50.02</td>\n",
       "      <td>99.09</td>\n",
       "      <td>0.58</td>\n",
       "      <td>0.85</td>\n",
       "      <td>0.85</td>\n",
       "      <td>29.16</td>\n",
       "    </tr>\n",
       "    <tr>\n",
       "      <th>PPLM</th>\n",
       "      <td>39.05</td>\n",
       "      <td>89.74</td>\n",
       "      <td>0.63</td>\n",
       "      <td>0.87</td>\n",
       "      <td>0.86</td>\n",
       "      <td>181.79</td>\n",
       "    </tr>\n",
       "    <tr>\n",
       "      <th>CTRL</th>\n",
       "      <td>37.62</td>\n",
       "      <td>79.05</td>\n",
       "      <td>0.50</td>\n",
       "      <td>0.83</td>\n",
       "      <td>0.86</td>\n",
       "      <td>35.94</td>\n",
       "    </tr>\n",
       "    <tr>\n",
       "      <th>DExperts (anti-only)</th>\n",
       "      <td>34.05</td>\n",
       "      <td>93.75</td>\n",
       "      <td>0.65</td>\n",
       "      <td>0.81</td>\n",
       "      <td>0.78</td>\n",
       "      <td>44.23</td>\n",
       "    </tr>\n",
       "    <tr>\n",
       "      <th>DAPT</th>\n",
       "      <td>33.28</td>\n",
       "      <td>87.43</td>\n",
       "      <td>0.58</td>\n",
       "      <td>0.85</td>\n",
       "      <td>0.84</td>\n",
       "      <td>32.86</td>\n",
       "    </tr>\n",
       "    <tr>\n",
       "      <th>Expert</th>\n",
       "      <td>24.32</td>\n",
       "      <td>61.67</td>\n",
       "      <td>0.60</td>\n",
       "      <td>0.86</td>\n",
       "      <td>0.85</td>\n",
       "      <td>65.11</td>\n",
       "    </tr>\n",
       "    <tr>\n",
       "      <th>GeDi</th>\n",
       "      <td>8.73</td>\n",
       "      <td>39.57</td>\n",
       "      <td>0.63</td>\n",
       "      <td>0.84</td>\n",
       "      <td>0.82</td>\n",
       "      <td>84.11</td>\n",
       "    </tr>\n",
       "    <tr>\n",
       "      <th>DExperts (small)</th>\n",
       "      <td>3.85</td>\n",
       "      <td>45.25</td>\n",
       "      <td>0.59</td>\n",
       "      <td>0.85</td>\n",
       "      <td>0.84</td>\n",
       "      <td>39.92</td>\n",
       "    </tr>\n",
       "    <tr>\n",
       "      <th>DExperts (medium)</th>\n",
       "      <td>3.79</td>\n",
       "      <td>40.21</td>\n",
       "      <td>0.59</td>\n",
       "      <td>0.85</td>\n",
       "      <td>0.84</td>\n",
       "      <td>43.47</td>\n",
       "    </tr>\n",
       "    <tr>\n",
       "      <th>DExperts (large)</th>\n",
       "      <td>3.77</td>\n",
       "      <td>35.99</td>\n",
       "      <td>0.60</td>\n",
       "      <td>0.84</td>\n",
       "      <td>0.83</td>\n",
       "      <td>45.91</td>\n",
       "    </tr>\n",
       "  </tbody>\n",
       "</table>\n",
       "</div>"
      ],
      "text/plain": [
       "                      neutral_prompts  pos_prompts  dist-1  dist-2  dist-3  \\\n",
       "GPT-2                           50.02        99.09    0.58    0.85    0.85   \n",
       "PPLM                            39.05        89.74    0.63    0.87    0.86   \n",
       "CTRL                            37.62        79.05    0.50    0.83    0.86   \n",
       "DExperts (anti-only)            34.05        93.75    0.65    0.81    0.78   \n",
       "DAPT                            33.28        87.43    0.58    0.85    0.84   \n",
       "Expert                          24.32        61.67    0.60    0.86    0.85   \n",
       "GeDi                             8.73        39.57    0.63    0.84    0.82   \n",
       "DExperts (small)                 3.85        45.25    0.59    0.85    0.84   \n",
       "DExperts (medium)                3.79        40.21    0.59    0.85    0.84   \n",
       "DExperts (large)                 3.77        35.99    0.60    0.84    0.83   \n",
       "\n",
       "                      perplexity  \n",
       "GPT-2                      29.16  \n",
       "PPLM                      181.79  \n",
       "CTRL                       35.94  \n",
       "DExperts (anti-only)       44.23  \n",
       "DAPT                       32.86  \n",
       "Expert                     65.11  \n",
       "GeDi                       84.11  \n",
       "DExperts (small)           39.92  \n",
       "DExperts (medium)          43.47  \n",
       "DExperts (large)           45.91  "
      ]
     },
     "execution_count": 26,
     "metadata": {},
     "output_type": "execute_result"
    }
   ],
   "source": [
    "pd.DataFrame(negative_steering_res).transpose().sort_values(by='neutral_prompts', ascending=False).round(2)"
   ]
  },
  {
   "cell_type": "markdown",
   "metadata": {},
   "source": [
    "## hyperparameter search"
   ]
  },
  {
   "cell_type": "code",
   "execution_count": 27,
   "metadata": {},
   "outputs": [],
   "source": [
    "GENS_DIR = Path('generations/sentiment/neutral_prompts/')\n",
    "sizes = ['large', 'medium', 'small']\n",
    "size_dict = {size: defaultdict(dict) for size in sizes}\n",
    "\n",
    "for size in sizes:\n",
    "    dexperts_dir = Path(f'dexperts/{size}_experts')\n",
    "\n",
    "    for folder in os.listdir(GENS_DIR / dexperts_dir):\n",
    "        splits = folder.split('-')\n",
    "        if len(splits) >= 2:\n",
    "            a = '-' + splits[-1] if len(splits) == 3 else splits[-1]\n",
    "            a = float(a)\n",
    "            size_dict[size][a] = GENS_DIR / dexperts_dir / f'{folder}/prompted_gens_dexperts.jsonl'"
   ]
  },
  {
   "cell_type": "code",
   "execution_count": 28,
   "metadata": {
    "scrolled": true
   },
   "outputs": [
    {
     "name": "stderr",
     "output_type": "stream",
     "text": [
      "100%|██████████| 12/12 [00:01<00:00,  7.99it/s]\n",
      "100%|██████████| 12/12 [00:01<00:00,  8.30it/s]\n",
      "100%|██████████| 12/12 [00:01<00:00,  8.03it/s]\n"
     ]
    }
   ],
   "source": [
    "small_res = read_sentiment_results(size_dict['small'], max_gens=1000)\n",
    "small_res_df = pd.DataFrame(small_res).transpose()\n",
    "medium_res = read_sentiment_results(size_dict['medium'], max_gens=1000)\n",
    "medium_res_df = pd.DataFrame(medium_res).transpose()\n",
    "large_res = read_sentiment_results(size_dict['large'], max_gens=1000)\n",
    "large_res_df = pd.DataFrame(large_res).transpose()"
   ]
  },
  {
   "cell_type": "code",
   "execution_count": 29,
   "metadata": {},
   "outputs": [],
   "source": [
    "def plot(res_df, label, axes):\n",
    "    ax = axes[0]\n",
    "    pos_hyperparam_res_df = res_df.loc[res_df.index >= 2.0]\n",
    "    sns.lineplot(x=pos_hyperparam_res_df['perplexity'], y=pos_hyperparam_res_df['positive_proportion'], ax=ax, marker='o', dashes=False, label=label)\n",
    "    for i, row in pos_hyperparam_res_df.iterrows():\n",
    "        x = row['perplexity']\n",
    "        y = row['positive_proportion']\n",
    "        ax.text(x=x, y=y, s=i)\n",
    "    \n",
    "    ax = axes[1]\n",
    "    neg_hyperparam_res_df = res_df.loc[res_df.index <= -2.0]\n",
    "    sns.lineplot(x=neg_hyperparam_res_df['perplexity'], y=neg_hyperparam_res_df['positive_proportion'], ax=ax, marker='o', dashes=False, label=label)\n",
    "    for i, row in neg_hyperparam_res_df.iterrows():\n",
    "        x = row['perplexity']\n",
    "        y = row['positive_proportion']\n",
    "        ax.text(x=x, y=y, s=i)"
   ]
  },
  {
   "cell_type": "code",
   "execution_count": 30,
   "metadata": {},
   "outputs": [
    {
     "data": {
      "text/plain": [
       "<Figure size 432x288 with 0 Axes>"
      ]
     },
     "metadata": {},
     "output_type": "display_data"
    },
    {
     "data": {
      "image/png": "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\n",
      "text/plain": [
       "<Figure size 576x432 with 2 Axes>"
      ]
     },
     "metadata": {},
     "output_type": "display_data"
    }
   ],
   "source": [
    "plt.figure()\n",
    "fig, axes = plt.subplots(2, 1, figsize=(8,6))\n",
    "plt.style.use('seaborn-white')\n",
    "fig.tight_layout()\n",
    "\n",
    "plot(small_res_df, label='Small experts', axes=axes)\n",
    "plot(medium_res_df, label='Medium experts', axes=axes)\n",
    "plot(large_res_df, label='Large experts', axes=axes)\n",
    "\n",
    "ax = axes[0]\n",
    "ax.set_xlabel(' ')\n",
    "ax.set_ylabel('% Positive', fontsize=13)\n",
    "ax.set_title('Positive steering')\n",
    "ax.legend()\n",
    "\n",
    "ax = axes[1]\n",
    "ax.set_xlabel('Perplexity', fontsize=13)\n",
    "ax.set_ylabel('% Positive', fontsize=13)\n",
    "ax.set_title('Negative steering')\n",
    "\n",
    "plt.tight_layout()\n",
    "plt.savefig('figures/sentiment_v_perplexity.png')"
   ]
  },
  {
   "cell_type": "code",
   "execution_count": null,
   "metadata": {},
   "outputs": [],
   "source": []
  }
 ],
 "metadata": {
  "kernelspec": {
   "display_name": "Python 3",
   "language": "python",
   "name": "python3"
  },
  "language_info": {
   "codemirror_mode": {
    "name": "ipython",
    "version": 3
   },
   "file_extension": ".py",
   "mimetype": "text/x-python",
   "name": "python",
   "nbconvert_exporter": "python",
   "pygments_lexer": "ipython3",
   "version": "3.8.5"
  }
 },
 "nbformat": 4,
 "nbformat_minor": 4
}
>>>>>>> minseon
