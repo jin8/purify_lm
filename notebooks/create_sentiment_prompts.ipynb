{
 "cells": [
  {
   "cell_type": "code",
   "execution_count": 10,
   "metadata": {},
   "outputs": [],
   "source": [
    "from pathlib import Path\n",
    "import sys, os\n",
    "import numpy as np\n",
    "import pandas as pd\n",
    "import json, jsonlines\n",
    "from tqdm.notebook import tqdm_notebook\n",
    "import matplotlib.pyplot as plt\n",
    "import nltk\n",
    "import seaborn as sns\n",
    "\n",
    "while Path.cwd().name != 'dexperts':\n",
    "    %cd ..\n",
    "\n",
    "from scripts.data.openwebtext import OWTC"
   ]
  },
  {
   "cell_type": "markdown",
   "metadata": {},
   "source": [
    "## get 100k subset of OWT prompts using reservoir sampling"
   ]
  },
  {
   "cell_type": "code",
   "execution_count": null,
   "metadata": {},
   "outputs": [],
   "source": [
    "def reservoir_sampling(l, k):\n",
    "    it = iter(l)\n",
    "    try:\n",
    "        result = [next(it) for _ in range(k)] # use xrange if on python 2.x\n",
    "    except StopIteration:\n",
    "        raise ValueError(\"Sample larger than population\")\n",
    "\n",
    "    for i, item in tqdm_notebook(enumerate(it, start=k)):\n",
    "        s = random.randint(0, i)\n",
    "        if s < k:\n",
    "            result[s] = item\n",
    "\n",
    "    random.shuffle(result)\n",
    "    return result"
   ]
  },
  {
   "cell_type": "code",
   "execution_count": null,
   "metadata": {},
   "outputs": [],
   "source": [
    "with open('prompts/sentiment_prompts.jsonl', 'r') as fin, open('prompts/sentiment_prompts-100k.jsonl', 'w') as fo:\n",
    "    for line in reservoir_sampling(fin, 100000):\n",
    "        fo.write(line)"
   ]
  },
  {
   "cell_type": "markdown",
   "metadata": {},
   "source": [
    "## sentiment distribution of GPT-2 generations on 100k sentiment prompts"
   ]
  },
  {
   "cell_type": "code",
   "execution_count": 3,
   "metadata": {},
   "outputs": [],
   "source": [
    "generations_df = pd.read_json('generations/sentiment/all_prompts/gpt2/prompted_gens_gpt2.jsonl', lines=True)"
   ]
  },
  {
   "cell_type": "code",
   "execution_count": 5,
   "metadata": {},
   "outputs": [
    {
     "data": {
      "application/vnd.jupyter.widget-view+json": {
       "model_id": "e811cef02b33487c9d149bf4f669f4ea",
       "version_major": 2,
       "version_minor": 0
      },
      "text/plain": [
       "HBox(children=(HTML(value=''), FloatProgress(value=0.0, max=100000.0), HTML(value='')))"
      ]
     },
     "metadata": {},
     "output_type": "display_data"
    },
    {
     "name": "stdout",
     "output_type": "stream",
     "text": [
      "\n"
     ]
    }
   ],
   "source": [
    "num_pos = []\n",
    "\n",
    "for i, row in tqdm_notebook(generations_df.iterrows(), total=len(generations_df.index)):\n",
    "    gens_df = pd.DataFrame(row.generations)\n",
    "    num_pos.append(np.sum(gens_df.label == 'POSITIVE'))\n",
    "\n",
    "generations_df['num_positive'] = num_pos"
   ]
  },
  {
   "cell_type": "code",
   "execution_count": 11,
   "metadata": {},
   "outputs": [
    {
     "data": {
      "text/plain": [
       "<Figure size 432x288 with 0 Axes>"
      ]
     },
     "metadata": {},
     "output_type": "display_data"
    },
    {
     "data": {
      "image/png": "[encoded data removed]",
      "text/plain": [
       "<Figure size 432x288 with 1 Axes>"
      ]
     },
     "metadata": {},
     "output_type": "display_data"
    }
   ],
   "source": [
    "plt.figure()\n",
    "fig, ax = plt.subplots()\n",
    "plt.style.use('seaborn-white')\n",
    "sns.histplot(num_pos, bins=26, discrete=True)\n",
    "ax.set_xlabel('Number of positive continuations (out of 25)')\n",
    "plt.title('Distribution in sentiment of GPT2-large continuations')\n",
    "plt.savefig('figures/sentiment_distribution_gpt2.png')"
   ]
  },
  {
   "cell_type": "code",
   "execution_count": null,
   "metadata": {},
   "outputs": [],
   "source": [
    "generations_df.to_json('prompts/sentiment_prompts-100k.jsonl', orient='records', lines=True)"
   ]
  },
  {
   "cell_type": "markdown",
   "metadata": {},
   "source": [
    "## get 10k subset of neutral, positive, and negative prompts"
   ]
  },
  {
   "cell_type": "code",
   "execution_count": 2,
   "metadata": {},
   "outputs": [],
   "source": [
    "dataset = pd.read_json('prompts/sentiment_prompts-100k.jsonl', lines=True)"
   ]
  },
  {
   "cell_type": "code",
   "execution_count": 84,
   "metadata": {},
   "outputs": [],
   "source": [
    "# get 2.5k positive generations\n",
    "prompts_size = 2500\n",
    "positive_idxs = []\n",
    "num_pos = 25\n",
    "\n",
    "while len(positive_idxs) < prompts_size:\n",
    "    need = prompts_size - len(positive_idxs)\n",
    "    idxs = list(dataset.loc[dataset['num_positive'] == num_pos].index)\n",
    "    idxs = np.random.choice(idxs, size=np.min([need, len(idxs)]), replace=False)\n",
    "    positive_idxs.extend(idxs)\n",
    "    num_pos -= 1\n",
    "\n",
    "positive_prompts = dataset.loc[positive_idxs]\n",
    "positive_prompts.to_json('prompts/sentiment_prompts-10k/positive_prompts.jsonl', orient='records', lines=True)"
   ]
  },
  {
   "cell_type": "code",
   "execution_count": 7,
   "metadata": {},
   "outputs": [],
   "source": [
    "# get 2.5k negative generations\n",
    "prompts_size = 2500\n",
    "negative_idxs = []\n",
    "num_pos = 0\n",
    "\n",
    "while len(negative_idxs) < prompts_size:\n",
    "    need = prompts_size - len(negative_idxs)\n",
    "    idxs = list(dataset.loc[dataset['num_positive'] == num_pos].index)\n",
    "    idxs = np.random.choice(idxs, size=np.min([need, len(idxs)]), replace=False)\n",
    "    negative_idxs.extend(idxs)\n",
    "    num_pos += 1\n",
    "\n",
    "negative_prompts = dataset.loc[negative_idxs]\n",
    "negative_prompts.to_json('prompts/sentiment_prompts-10k/negative_prompts.jsonl', orient='records', lines=True)"
   ]
  },
  {
   "cell_type": "code",
   "execution_count": 104,
   "metadata": {},
   "outputs": [],
   "source": [
    "# get 5k neutral generations\n",
    "neutral_prompts = dataset.loc[dataset['num_positive'].isin([12, 13])].sample(5000)\n",
    "neutral_prompts.to_json('prompts/sentiment_prompts-10k/neutral_prompts.jsonl', orient='records', lines=True)"
   ]
  },
  {
   "cell_type": "code",
   "execution_count": null,
   "metadata": {},
   "outputs": [],
   "source": []
  }
 ],
 "metadata": {
  "kernelspec": {
   "display_name": "Python 3",
   "language": "python",
   "name": "python3"
  },
  "language_info": {
   "codemirror_mode": {
    "name": "ipython",
    "version": 3
   },
   "file_extension": ".py",
   "mimetype": "text/x-python",
   "name": "python",
   "nbconvert_exporter": "python",
   "pygments_lexer": "ipython3",
   "version": "3.8.5"
  }
 },
 "nbformat": 4,
 "nbformat_minor": 4
}
